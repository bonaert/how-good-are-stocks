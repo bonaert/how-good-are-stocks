{
 "cells": [
  {
   "cell_type": "markdown",
   "metadata": {},
   "source": [
    "# How good are stocks?\n",
    "\n",
    "The goal of this notebook is to find out if it's worth it to invest in stocks, and how much you're likely to earn. In this notebook, I'm not interested in a specific stock (say Microsoft or Walmart), but instead in the average performance of all stocks.\n",
    "\n",
    "In other words, imagine I buy 100$ worth of the top 500 companies (these companies are commonly called the S&P500, or Standard and Poor's 500). Here are some questions I'd like to explore: \n",
    "\n",
    "- How much will I have in 5, 10, 20, 40 years? \n",
    "- Does the time of the purchase matter? Is buying too soon or too late a problem, or is it something I don't need to care about?\n",
    "- What is the variability? Are returns very volatile, or generally stable?\n",
    "- How long do I have to wait to have a 90% chance of making money overall? "
   ]
  },
  {
   "cell_type": "markdown",
   "metadata": {},
   "source": [
    "## Our approach\n",
    "\n",
    "To figure this out, we could make a complicated model of the stock market and the world economy, with tons of variables and complicated equations. However, I don't have the time, nor the interest. Instead, I'll simply look at the past and see how much money I would have made if I had bought stocks.\n",
    "\n",
    "**Example**: If I had bought 1000$ worth of S&P500 in March 1998, how much would these shares be worth in 1999? In 2000? In 2005? In 2010? In 2018?\n",
    "\n",
    "I'll ask this question for every year from *startDate* to *endDate*, and see how much I'd earn on average and the variability of the returns.\n",
    "\n",
    "### But doesn't the S&P500 change every year?\n",
    "\n",
    "Every year, some companies leave the S&P500 and others replace them. Therefore, some of the companies I bought in 2010 might not be in the S&P500 in 2015. If that's the case, then I can't use the evolution of the S&P500 to see the evolution of my shares, since the companies in the S&P500 would have changed but not my stocks. \n",
    "\n",
    "To avoid this problem, I'm assuming we're buying an [index fund](https://en.wikipedia.org/wiki/Index_fund) representing the S&P500. Index funds automatically replace the old companies by the new ones in your account, avoiding this problem. As a bonus, index funds have really small fees, which makes them even better."
   ]
  },
  {
   "cell_type": "markdown",
   "metadata": {},
   "source": [
    "## Getting data\n",
    "\n",
    "To compute this, we need to get the price of the S&P500 over time. The data comes from Robert Shiller's [Online Data](http://www.econ.yale.edu/~shiller/data.htm) page. It contains the inflation-adjusted prices and dividends of the S&P500 from 1871 to 2016."
   ]
  },
  {
   "cell_type": "code",
   "execution_count": 1,
   "metadata": {},
   "outputs": [
    {
     "name": "stdout",
     "output_type": "stream",
     "text": [
      "((1871, 1), {'Real Dividend': 5.02, 'Real Earnings': 7.72, 'Real Price': 85.65, 'Dividend': 0.26, 'SP500': 4.44, 'PE10': 0.0, 'Earnings': 0.4, 'Long Interest Rate': 5.32, 'Consumer Price Index': 12.46})\n",
      "((1871, 2), {'Real Dividend': 4.87, 'Real Earnings': 7.49, 'Real Price': 84.24, 'Dividend': 0.26, 'SP500': 4.5, 'PE10': 0.0, 'Earnings': 0.4, 'Long Interest Rate': 5.32, 'Consumer Price Index': 12.84})\n",
      "((1871, 3), {'Real Dividend': 4.8, 'Real Earnings': 7.38, 'Real Price': 85.04, 'Dividend': 0.26, 'SP500': 4.61, 'PE10': 0.0, 'Earnings': 0.4, 'Long Interest Rate': 5.33, 'Consumer Price Index': 13.03})\n",
      "((1871, 4), {'Real Dividend': 4.98, 'Real Earnings': 7.66, 'Real Price': 90.75, 'Dividend': 0.26, 'SP500': 4.74, 'PE10': 0.0, 'Earnings': 0.4, 'Long Interest Rate': 5.33, 'Consumer Price Index': 12.56})\n",
      "((1871, 5), {'Real Dividend': 5.09, 'Real Earnings': 7.84, 'Real Price': 95.21, 'Dividend': 0.26, 'SP500': 4.86, 'PE10': 0.0, 'Earnings': 0.4, 'Long Interest Rate': 5.33, 'Consumer Price Index': 12.27})\n",
      "\n",
      "The latest date is (2016, 8)\n",
      "{'Real Dividend': 41.05, 'Real Earnings': 104.21, 'Real Price': 2086.71, 'Dividend': 39.9, 'SP500': 2028.18, 'PE10': 26.49, 'Earnings': 101.29, 'Long Interest Rate': 1.88, 'Consumer Price Index': 233.71}\n"
     ]
    }
   ],
   "source": [
    "from collections import OrderedDict\n",
    "\n",
    "stocksData = OrderedDict()\n",
    "lastDate = None\n",
    "\n",
    "import csv\n",
    "with open('fullData.csv') as f:\n",
    "    descriptions = f.readline().strip().split(',')\n",
    "    reader = csv.reader(f)\n",
    "    for row in reader:\n",
    "        year, month, day = tuple(int(x) for x in row[0].split(\"-\"))\n",
    "        lastDate = year, month\n",
    "        \n",
    "        values = {description: float(value or '0') for description, value in zip(descriptions[1:], row[1:])}\n",
    "        stocksData[lastDate] = values\n",
    "    \n",
    "LAST_YEAR, LAST_MONTH = lastDate\n",
    "\n",
    "def take(seq, numElements):\n",
    "    for (i, val) in enumerate(seq, start=1):\n",
    "        if i > numElements:\n",
    "            break\n",
    "        \n",
    "        yield val\n",
    "\n",
    "for data in take(stocksData.items(), 5):\n",
    "    print(data)\n",
    "\n",
    "print()\n",
    "print(\"The latest date is %s\" % str(lastDate))\n",
    "print(stocksData[(2015, 1)])"
   ]
  },
  {
   "cell_type": "markdown",
   "metadata": {},
   "source": [
    "Imagine we had bought 1000$ worth of S&P500 in 1990, would that be a good decision? How much money would we have made or lost?"
   ]
  },
  {
   "cell_type": "markdown",
   "metadata": {},
   "source": [
    "### Representing time"
   ]
  },
  {
   "cell_type": "code",
   "execution_count": 2,
   "metadata": {},
   "outputs": [
    {
     "name": "stdout",
     "output_type": "stream",
     "text": [
      "There are 0 years and 1 months between December 1927 and January 1928.\n",
      "There are 0 years and 3 months between January 1928 and April 1928.\n",
      "There are 1 years and 0 months between January 1928 and January 1929.\n",
      "There are 0 years and 7 months between June 1928 and January 1929.\n"
     ]
    }
   ],
   "source": [
    "import math\n",
    "\n",
    "def toAbsTime(date):\n",
    "    year, month = date\n",
    "    return year + month / 12\n",
    "\n",
    "def toTupleTime(date):\n",
    "    year = int(date)\n",
    "    month = round((date - year) * 12)\n",
    "    return year, month\n",
    "\n",
    "def absTimeDiff(startDate, endDate):\n",
    "    return toAbsTime(endDate) - toAbsTime(startDate)\n",
    "\n",
    "def timeDiff(startDate, endDate):\n",
    "    return toTupleTime(absTimeDiff(startDate, endDate))\n",
    "\n",
    "\n",
    "print(\"There are %d years and %d months between December 1927 and January 1928.\" % timeDiff((1927, 12), (1928, 1)))\n",
    "print(\"There are %d years and %d months between January 1928 and April 1928.\" % timeDiff((1928, 1), (1928, 4)))\n",
    "print(\"There are %d years and %d months between January 1928 and January 1929.\" % timeDiff((1928, 1), (1929, 1)))\n",
    "print(\"There are %d years and %d months between June 1928 and January 1929.\" % timeDiff((1928, 6), (1929, 1)))"
   ]
  },
  {
   "cell_type": "markdown",
   "metadata": {},
   "source": [
    "### Computing price evolution"
   ]
  },
  {
   "cell_type": "code",
   "execution_count": 3,
   "metadata": {},
   "outputs": [
    {
     "name": "stdout",
     "output_type": "stream",
     "text": [
      "The price in January 1990 is 641.65$\n",
      "\n",
      "The price in January 1991 is 581.46$\n",
      "Difference: -60.19$ \n",
      "Return rate: -9.38 percent\n",
      "\n",
      "The price in January 1992 is 724.45$\n",
      "Difference: 82.80$ \n",
      "Return rate: 6.26 percent\n",
      "\n",
      "The price in January 1993 is 733.88$\n",
      "Difference: 92.23$ \n",
      "Return rate: 4.58 percent\n",
      "\n",
      "The price in January 1994 is 777.91$\n",
      "Difference: 136.26$ \n",
      "Return rate: 4.93 percent\n",
      "\n",
      "The price in January 1995 is 744.31$\n",
      "Difference: 102.66$ \n",
      "Return rate: 3.01 percent\n",
      "\n",
      "The price in January 1996 is 956.85$\n",
      "Difference: 315.20$ \n",
      "Return rate: 6.89 percent\n",
      "\n",
      "The price in January 1997 is 1158.01$\n",
      "Difference: 516.36$ \n",
      "Return rate: 8.80 percent\n",
      "\n",
      "The price in January 1998 is 1433.42$\n",
      "Difference: 791.77$ \n",
      "Return rate: 10.57 percent\n",
      "\n",
      "The price in January 1999 is 1827.56$\n",
      "Difference: 1185.91$ \n",
      "Return rate: 12.33 percent\n",
      "\n",
      "The price in January 2000 is 2030.72$\n",
      "Difference: 1389.07$ \n",
      "Return rate: 12.21 percent\n",
      "\n",
      "The price in January 2001 is 1834.12$\n",
      "Difference: 1192.47$ \n",
      "Return rate: 10.02 percent\n",
      "\n",
      "The price in January 2002 is 1548.08$\n",
      "Difference: 906.43$ \n",
      "Return rate: 7.62 percent\n",
      "\n",
      "The price in January 2003 is 1185.50$\n",
      "Difference: 543.85$ \n",
      "Return rate: 4.84 percent\n",
      "\n",
      "The price in January 2004 is 1470.39$\n",
      "Difference: 828.74$ \n",
      "Return rate: 6.10 percent\n",
      "\n",
      "The price in January 2005 is 1489.63$\n",
      "Difference: 847.98$ \n",
      "Return rate: 5.78 percent\n",
      "\n",
      "The price in January 2006 is 1550.54$\n",
      "Difference: 908.89$ \n",
      "Return rate: 5.67 percent\n",
      "\n",
      "The price in January 2007 is 1691.77$\n",
      "Difference: 1050.12$ \n",
      "Return rate: 5.87 percent\n",
      "\n",
      "The price in January 2008 is 1570.61$\n",
      "Difference: 928.96$ \n",
      "Return rate: 5.10 percent\n",
      "\n",
      "The price in January 2009 is 985.73$\n",
      "Difference: 344.08$ \n",
      "Return rate: 2.29 percent\n",
      "\n",
      "The price in January 2010 is 1246.81$\n",
      "Difference: 605.16$ \n",
      "Return rate: 3.38 percent\n",
      "\n",
      "The price in January 2011 is 1400.43$\n",
      "Difference: 758.78$ \n",
      "Return rate: 3.79 percent\n",
      "\n",
      "The price in January 2012 is 1379.69$\n",
      "Difference: 738.04$ \n",
      "Return rate: 3.54 percent\n",
      "\n",
      "The price in January 2013 is 1545.79$\n",
      "Difference: 904.14$ \n",
      "Return rate: 3.90 percent\n",
      "\n",
      "The price in January 2014 is 1873.28$\n",
      "Difference: 1231.63$ \n",
      "Return rate: 4.57 percent\n",
      "\n",
      "The price in January 2015 is 2086.71$\n",
      "Difference: 1445.06$ \n",
      "Return rate: 4.83 percent\n",
      "\n",
      "The price in January 2016 is 1947.23$\n",
      "Difference: 1305.58$ \n",
      "Return rate: 4.36 percent\n",
      "\n"
     ]
    }
   ],
   "source": [
    "def getPrice(stockData, date):\n",
    "    if type(date) != tuple:\n",
    "        date = (date, 1)\n",
    "    \n",
    "    return stocksData[date][\"Real Price\"]\n",
    "\n",
    "def strPrice(price):\n",
    "    return \"%.2f$\" % price\n",
    "\n",
    "def showPrice(stockData, date):\n",
    "    year, month = date\n",
    "    print(\"The price in January %d is %s\" % (year, strPrice(getPrice(stockData, date))))\n",
    "\n",
    "def getReturnRateInAbsTime(startPrice, endPrice, timeLapse):\n",
    "    returnRate = ((endPrice / startPrice) ** (1 / timeLapse) - 1) * 100\n",
    "    return returnRate    \n",
    "    \n",
    "def getReturnRate(startDate, startPrice, endDate, endPrice):\n",
    "    return getReturnRateInAbsTime(startPrice, endPrice, absTimeDiff(startDate, endDate))\n",
    "\n",
    "def getEvolution(stockData, startDate, endDate):\n",
    "    startPrice, endPrice = getPrice(stockData, startDate), getPrice(stockData, endDate)\n",
    "    priceDiff = endPrice - startPrice\n",
    "    return priceDiff, getReturnRate(startDate, startPrice, endDate, endPrice)\n",
    "    \n",
    "def allYearsSince(year, maxYear=10000000):\n",
    "    while year <= min(maxYear, LAST_YEAR):\n",
    "        yield year\n",
    "        year += 1\n",
    "    \n",
    "startDate = startYear, startMonth = (1990, 1)\n",
    "showPrice(stocksData, startDate)\n",
    "print()\n",
    "\n",
    "for year in allYearsSince(startYear + 1):\n",
    "    currentDate = (year, 1)\n",
    "    showPrice(stocksData, currentDate)\n",
    "    priceDiff, returnRate = getEvolution(stocksData, startDate, currentDate)\n",
    "    print(\"Difference: %s \\nReturn rate: %.2f percent\" % (strPrice(priceDiff), returnRate))\n",
    "    print()\n",
    "    "
   ]
  },
  {
   "cell_type": "markdown",
   "metadata": {},
   "source": [
    "We can see that buying stock in 1990 was a pretty good idea. The return rate was always positive, except in 1991, and has fluctuated quite a lot, mostly due to the DotCom bubble and the Great Recession. Despite that, today you'd have earned a 5.45% rate of return on your money, changing 636.77\\$ to 2173.53\\$ in inflation-adjusted dollars. Quite nice!\n",
    "\n",
    "\n",
    "## Average evolution over differing amounts of time\n",
    "\n",
    "Let's look at the bigger picture and see the 10-year evolution for every year since 1970."
   ]
  },
  {
   "cell_type": "code",
   "execution_count": 4,
   "metadata": {},
   "outputs": [],
   "source": [
    "%matplotlib inline\n",
    "import numpy as np\n",
    "import matplotlib.pyplot as plt\n",
    "\n",
    "from statistics import mean, stdev\n",
    "\n",
    "def getPriceEvolution(beginningYear, timeLapse):\n",
    "    prices = []\n",
    "    for year in allYearsSince(beginningYear, maxYear=LAST_YEAR - timeLapse):\n",
    "        startPrice, endPrice = getPrice(stocksData, year), getPrice(stocksData, year + timeLapse)\n",
    "        prices.append((1000, 1000 * endPrice / startPrice))\n",
    "    return prices\n",
    "\n",
    "def getReturnRates(prices, timeLapse):\n",
    "    return [getReturnRateInAbsTime(startPrice, endPrice, timeLapse) for (startPrice, endPrice) in prices]\n",
    "\n",
    "def showPriceEvolutionStats(prices, returnRates, beginningYear, timeLapse):\n",
    "    for year, ((startPrice, endPrice), returnRate) in enumerate(zip(prices, returnRates), start=beginningYear):\n",
    "        #print(\"The price in %d was %s.\" % (year, strPrice(startPrice)))\n",
    "        #print(\"The price in %d was %s.\" % (year + timeLapse, strPrice(endPrice)))\n",
    "        print(\"The return rate from %d to %d was %6.2f percent       (%s to %s)\" \\\n",
    "              % (year, year + timeLapse, returnRate, strPrice(startPrice), strPrice(endPrice)))\n",
    "    \n",
    "    print()\n",
    "    print(\"The average return rate over %d years was %.2f percent\" % (timeLapse, mean(returnRates)))\n",
    "    print(\"The standard deviation is %.2f percent\" % stdev(returnRates))\n",
    "    print(\"It varied between %.2f percent and %.2f percent\" % (min(returnRates), max(returnRates)))\n",
    "    plt.hist(returnRates, bins=40)\n",
    "    \n",
    "def computeAndShowReturnRateInfo(beginningYear, timeLapse):\n",
    "    prices = getPriceEvolution(beginningYear, timeLapse)\n",
    "    returnRates = getReturnRates(prices, timeLapse)\n",
    "    showPriceEvolutionStats(prices, returnRates, beginningYear, timeLapse)\n",
    "    "
   ]
  },
  {
   "cell_type": "markdown",
   "metadata": {},
   "source": [
    "### 5 year evolution"
   ]
  },
  {
   "cell_type": "code",
   "execution_count": 5,
   "metadata": {},
   "outputs": [
    {
     "name": "stdout",
     "output_type": "stream",
     "text": [
      "The return rate from 1970 to 1975 was -10.23 percent       (1000.00$ to 582.93$)\n",
      "The return rate from 1971 to 1976 was  -5.80 percent       (1000.00$ to 741.63$)\n",
      "The return rate from 1972 to 1977 was  -6.73 percent       (1000.00$ to 705.97$)\n",
      "The return rate from 1973 to 1978 was -12.27 percent       (1000.00$ to 519.54$)\n",
      "The return rate from 1974 to 1979 was  -6.68 percent       (1000.00$ to 707.84$)\n",
      "The return rate from 1975 to 1980 was   0.47 percent       (1000.00$ to 1023.50$)\n",
      "The return rate from 1976 to 1981 was  -2.58 percent       (1000.00$ to 877.53$)\n",
      "The return rate from 1977 to 1982 was  -6.86 percent       (1000.00$ to 701.04$)\n",
      "The return rate from 1978 to 1983 was   0.43 percent       (1000.00$ to 1021.80$)\n",
      "The return rate from 1979 to 1984 was   2.27 percent       (1000.00$ to 1118.57$)\n",
      "The return rate from 1980 to 1985 was   2.67 percent       (1000.00$ to 1141.06$)\n",
      "The return rate from 1981 to 1986 was   4.44 percent       (1000.00$ to 1242.61$)\n",
      "The return rate from 1982 to 1987 was  13.84 percent       (1000.00$ to 1912.20$)\n",
      "The return rate from 1983 to 1988 was   7.97 percent       (1000.00$ to 1467.39$)\n",
      "The return rate from 1984 to 1989 was   7.61 percent       (1000.00$ to 1443.22$)\n",
      "The return rate from 1985 to 1990 was  10.41 percent       (1000.00$ to 1640.63$)\n",
      "The return rate from 1986 to 1991 was   4.95 percent       (1000.00$ to 1272.98$)\n",
      "The return rate from 1987 to 1992 was   4.84 percent       (1000.00$ to 1266.65$)\n",
      "The return rate from 1988 to 1993 was   7.11 percent       (1000.00$ to 1409.68$)\n",
      "The return rate from 1989 to 1994 was   6.54 percent       (1000.00$ to 1372.75$)\n",
      "The return rate from 1990 to 1995 was   3.01 percent       (1000.00$ to 1159.99$)\n",
      "The return rate from 1991 to 1996 was  10.48 percent       (1000.00$ to 1645.60$)\n",
      "The return rate from 1992 to 1997 was   9.84 percent       (1000.00$ to 1598.47$)\n",
      "The return rate from 1993 to 1998 was  14.33 percent       (1000.00$ to 1953.21$)\n",
      "The return rate from 1994 to 1999 was  18.63 percent       (1000.00$ to 2349.32$)\n",
      "The return rate from 1995 to 2000 was  22.23 percent       (1000.00$ to 2728.33$)\n",
      "The return rate from 1996 to 2001 was  13.90 percent       (1000.00$ to 1916.83$)\n",
      "The return rate from 1997 to 2002 was   5.98 percent       (1000.00$ to 1336.85$)\n",
      "The return rate from 1998 to 2003 was  -3.73 percent       (1000.00$ to 827.04$)\n",
      "The return rate from 1999 to 2004 was  -4.26 percent       (1000.00$ to 804.56$)\n",
      "The return rate from 2000 to 2005 was  -6.01 percent       (1000.00$ to 733.55$)\n",
      "The return rate from 2001 to 2006 was  -3.30 percent       (1000.00$ to 845.39$)\n",
      "The return rate from 2002 to 2007 was   1.79 percent       (1000.00$ to 1092.82$)\n",
      "The return rate from 2003 to 2008 was   5.79 percent       (1000.00$ to 1324.85$)\n",
      "The return rate from 2004 to 2009 was  -7.69 percent       (1000.00$ to 670.39$)\n",
      "The return rate from 2005 to 2010 was  -3.50 percent       (1000.00$ to 836.99$)\n",
      "The return rate from 2006 to 2011 was  -2.02 percent       (1000.00$ to 903.19$)\n",
      "The return rate from 2007 to 2012 was  -4.00 percent       (1000.00$ to 815.53$)\n",
      "The return rate from 2008 to 2013 was  -0.32 percent       (1000.00$ to 984.20$)\n",
      "The return rate from 2009 to 2014 was  13.70 percent       (1000.00$ to 1900.40$)\n",
      "The return rate from 2010 to 2015 was  10.85 percent       (1000.00$ to 1673.64$)\n",
      "The return rate from 2011 to 2016 was   6.81 percent       (1000.00$ to 1390.45$)\n",
      "\n",
      "The average return rate over 5 years was 2.97 percent\n",
      "The standard deviation is 8.12 percent\n",
      "It varied between -12.27 percent and 22.23 percent\n"
     ]
    },
    {
     "data": {
      "image/png": "[encoded data removed]",
      "text/plain": [
       "<matplotlib.figure.Figure at 0x7f8699054a20>"
      ]
     },
     "metadata": {},
     "output_type": "display_data"
    }
   ],
   "source": [
    "computeAndShowReturnRateInfo(1970, 5)"
   ]
  },
  {
   "cell_type": "markdown",
   "metadata": {},
   "source": [
    "### 7 year evolution"
   ]
  },
  {
   "cell_type": "code",
   "execution_count": 6,
   "metadata": {},
   "outputs": [
    {
     "name": "stdout",
     "output_type": "stream",
     "text": [
      "The return rate from 1970 to 1977 was  -4.16 percent       (1000.00$ to 742.67$)\n",
      "The return rate from 1971 to 1978 was  -6.72 percent       (1000.00$ to 614.73$)\n",
      "The return rate from 1972 to 1979 was  -7.47 percent       (1000.00$ to 580.84$)\n",
      "The return rate from 1973 to 1980 was  -9.10 percent       (1000.00$ to 512.87$)\n",
      "The return rate from 1974 to 1981 was  -4.19 percent       (1000.00$ to 741.23$)\n",
      "The return rate from 1975 to 1982 was  -1.60 percent       (1000.00$ to 893.16$)\n",
      "The return rate from 1976 to 1983 was  -2.35 percent       (1000.00$ to 846.95$)\n",
      "The return rate from 1977 to 1984 was  -1.18 percent       (1000.00$ to 920.31$)\n",
      "The return rate from 1978 to 1985 was   1.72 percent       (1000.00$ to 1126.41$)\n",
      "The return rate from 1979 to 1986 was   3.83 percent       (1000.00$ to 1301.23$)\n",
      "The return rate from 1980 to 1987 was   7.59 percent       (1000.00$ to 1668.68$)\n",
      "The return rate from 1981 to 1988 was   5.10 percent       (1000.00$ to 1416.25$)\n",
      "The return rate from 1982 to 1989 was   9.56 percent       (1000.00$ to 1894.62$)\n",
      "The return rate from 1983 to 1990 was   8.83 percent       (1000.00$ to 1808.59$)\n",
      "The return rate from 1984 to 1991 was   5.77 percent       (1000.00$ to 1480.86$)\n",
      "The return rate from 1985 to 1992 was   9.21 percent       (1000.00$ to 1852.34$)\n",
      "The return rate from 1986 to 1993 was   7.01 percent       (1000.00$ to 1606.67$)\n",
      "The return rate from 1987 to 1994 was   4.49 percent       (1000.00$ to 1360.13$)\n",
      "The return rate from 1988 to 1995 was   5.24 percent       (1000.00$ to 1429.72$)\n",
      "The return rate from 1989 to 1996 was   7.77 percent       (1000.00$ to 1688.52$)\n",
      "The return rate from 1990 to 1997 was   8.80 percent       (1000.00$ to 1804.74$)\n",
      "The return rate from 1991 to 1998 was  13.76 percent       (1000.00$ to 2465.21$)\n",
      "The return rate from 1992 to 1999 was  14.13 percent       (1000.00$ to 2522.69$)\n",
      "The return rate from 1993 to 2000 was  15.65 percent       (1000.00$ to 2767.10$)\n",
      "The return rate from 1994 to 2001 was  13.04 percent       (1000.00$ to 2357.75$)\n",
      "The return rate from 1995 to 2002 was  11.03 percent       (1000.00$ to 2079.89$)\n",
      "The return rate from 1996 to 2003 was   3.11 percent       (1000.00$ to 1238.96$)\n",
      "The return rate from 1997 to 2004 was   3.47 percent       (1000.00$ to 1269.76$)\n",
      "The return rate from 1998 to 2005 was   0.55 percent       (1000.00$ to 1039.21$)\n",
      "The return rate from 1999 to 2006 was  -2.32 percent       (1000.00$ to 848.42$)\n",
      "The return rate from 2000 to 2007 was  -2.58 percent       (1000.00$ to 833.09$)\n",
      "The return rate from 2001 to 2008 was  -2.19 percent       (1000.00$ to 856.33$)\n",
      "The return rate from 2002 to 2009 was  -6.24 percent       (1000.00$ to 636.74$)\n",
      "The return rate from 2003 to 2010 was   0.72 percent       (1000.00$ to 1051.72$)\n",
      "The return rate from 2004 to 2011 was  -0.69 percent       (1000.00$ to 952.42$)\n",
      "The return rate from 2005 to 2012 was  -1.09 percent       (1000.00$ to 926.20$)\n",
      "The return rate from 2006 to 2013 was  -0.04 percent       (1000.00$ to 996.94$)\n",
      "The return rate from 2007 to 2014 was   1.47 percent       (1000.00$ to 1107.29$)\n",
      "The return rate from 2008 to 2015 was   4.14 percent       (1000.00$ to 1328.60$)\n",
      "The return rate from 2009 to 2016 was  10.21 percent       (1000.00$ to 1975.42$)\n",
      "\n",
      "The average return rate over 7 years was 3.11 percent\n",
      "The standard deviation is 6.39 percent\n",
      "It varied between -9.10 percent and 15.65 percent\n"
     ]
    },
    {
     "data": {
      "image/png": "[encoded data removed]",
      "text/plain": [
       "<matplotlib.figure.Figure at 0x7f86990c3be0>"
      ]
     },
     "metadata": {},
     "output_type": "display_data"
    }
   ],
   "source": [
    "computeAndShowReturnRateInfo(1970, 7)"
   ]
  },
  {
   "cell_type": "markdown",
   "metadata": {},
   "source": [
    "### 10 year evolution"
   ]
  },
  {
   "cell_type": "code",
   "execution_count": 7,
   "metadata": {},
   "outputs": [
    {
     "name": "stdout",
     "output_type": "stream",
     "text": [
      "The return rate from 1970 to 1980 was  -5.03 percent       (1000.00$ to 596.63$)\n",
      "The return rate from 1971 to 1981 was  -4.20 percent       (1000.00$ to 650.81$)\n",
      "The return rate from 1972 to 1982 was  -6.79 percent       (1000.00$ to 494.91$)\n",
      "The return rate from 1973 to 1983 was  -6.14 percent       (1000.00$ to 530.87$)\n",
      "The return rate from 1974 to 1984 was  -2.31 percent       (1000.00$ to 791.76$)\n",
      "The return rate from 1975 to 1985 was   1.56 percent       (1000.00$ to 1167.88$)\n",
      "The return rate from 1976 to 1986 was   0.87 percent       (1000.00$ to 1090.43$)\n",
      "The return rate from 1977 to 1987 was   2.97 percent       (1000.00$ to 1340.54$)\n",
      "The return rate from 1978 to 1988 was   4.13 percent       (1000.00$ to 1499.38$)\n",
      "The return rate from 1979 to 1989 was   4.91 percent       (1000.00$ to 1614.33$)\n",
      "The return rate from 1980 to 1990 was   6.47 percent       (1000.00$ to 1872.06$)\n",
      "The return rate from 1981 to 1991 was   4.69 percent       (1000.00$ to 1581.82$)\n",
      "The return rate from 1982 to 1992 was   9.25 percent       (1000.00$ to 2422.10$)\n",
      "The return rate from 1983 to 1993 was   7.54 percent       (1000.00$ to 2068.55$)\n",
      "The return rate from 1984 to 1994 was   7.08 percent       (1000.00$ to 1981.18$)\n",
      "The return rate from 1985 to 1995 was   6.65 percent       (1000.00$ to 1903.12$)\n",
      "The return rate from 1986 to 1996 was   7.67 percent       (1000.00$ to 2094.82$)\n",
      "The return rate from 1987 to 1997 was   7.31 percent       (1000.00$ to 2024.71$)\n",
      "The return rate from 1988 to 1998 was  10.66 percent       (1000.00$ to 2753.40$)\n",
      "The return rate from 1989 to 1999 was  12.42 percent       (1000.00$ to 3225.03$)\n",
      "The return rate from 1990 to 2000 was  12.21 percent       (1000.00$ to 3164.84$)\n",
      "The return rate from 1991 to 2001 was  12.17 percent       (1000.00$ to 3154.34$)\n",
      "The return rate from 1992 to 2002 was   7.89 percent       (1000.00$ to 2136.90$)\n",
      "The return rate from 1993 to 2003 was   4.91 percent       (1000.00$ to 1615.39$)\n",
      "The return rate from 1994 to 2004 was   6.57 percent       (1000.00$ to 1890.18$)\n",
      "The return rate from 1995 to 2005 was   7.18 percent       (1000.00$ to 2001.36$)\n",
      "The return rate from 1996 to 2006 was   4.95 percent       (1000.00$ to 1620.46$)\n",
      "The return rate from 1997 to 2007 was   3.86 percent       (1000.00$ to 1460.93$)\n",
      "The return rate from 1998 to 2008 was   0.92 percent       (1000.00$ to 1095.71$)\n",
      "The return rate from 1999 to 2009 was  -5.99 percent       (1000.00$ to 539.37$)\n",
      "The return rate from 2000 to 2010 was  -4.76 percent       (1000.00$ to 613.97$)\n",
      "The return rate from 2001 to 2011 was  -2.66 percent       (1000.00$ to 763.54$)\n",
      "The return rate from 2002 to 2012 was  -1.14 percent       (1000.00$ to 891.23$)\n",
      "The return rate from 2003 to 2013 was   2.69 percent       (1000.00$ to 1303.91$)\n",
      "The return rate from 2004 to 2014 was   2.45 percent       (1000.00$ to 1274.00$)\n",
      "The return rate from 2005 to 2015 was   3.43 percent       (1000.00$ to 1400.82$)\n",
      "The return rate from 2006 to 2016 was   2.30 percent       (1000.00$ to 1255.84$)\n",
      "\n",
      "The average return rate over 10 years was 3.42 percent\n",
      "The standard deviation is 5.40 percent\n",
      "It varied between -6.79 percent and 12.42 percent\n"
     ]
    },
    {
     "data": {
      "image/png": "[encoded data removed]",
      "text/plain": [
       "<matplotlib.figure.Figure at 0x7f866fadfeb8>"
      ]
     },
     "metadata": {},
     "output_type": "display_data"
    }
   ],
   "source": [
    "computeAndShowReturnRateInfo(1970, 10)"
   ]
  },
  {
   "cell_type": "markdown",
   "metadata": {},
   "source": [
    "### 20 year evolution"
   ]
  },
  {
   "cell_type": "code",
   "execution_count": 8,
   "metadata": {},
   "outputs": [
    {
     "name": "stdout",
     "output_type": "stream",
     "text": [
      "The return rate from 1970 to 1990 was   0.55 percent       (1000.00$ to 1116.92$)\n",
      "The return rate from 1971 to 1991 was   0.15 percent       (1000.00$ to 1029.46$)\n",
      "The return rate from 1972 to 1992 was   0.91 percent       (1000.00$ to 1198.73$)\n",
      "The return rate from 1973 to 1993 was   0.47 percent       (1000.00$ to 1098.13$)\n",
      "The return rate from 1974 to 1994 was   2.28 percent       (1000.00$ to 1568.62$)\n",
      "The return rate from 1975 to 1995 was   4.07 percent       (1000.00$ to 2222.62$)\n",
      "The return rate from 1976 to 1996 was   4.22 percent       (1000.00$ to 2284.25$)\n",
      "The return rate from 1977 to 1997 was   5.12 percent       (1000.00$ to 2714.19$)\n",
      "The return rate from 1978 to 1998 was   7.35 percent       (1000.00$ to 4128.39$)\n",
      "The return rate from 1979 to 1999 was   8.60 percent       (1000.00$ to 5206.28$)\n",
      "The return rate from 1980 to 2000 was   9.30 percent       (1000.00$ to 5924.78$)\n",
      "The return rate from 1981 to 2001 was   8.37 percent       (1000.00$ to 4989.58$)\n",
      "The return rate from 1982 to 2002 was   8.57 percent       (1000.00$ to 5175.79$)\n",
      "The return rate from 1983 to 2003 was   6.22 percent       (1000.00$ to 3341.51$)\n",
      "The return rate from 1984 to 2004 was   6.82 percent       (1000.00$ to 3744.79$)\n",
      "The return rate from 1985 to 2005 was   6.92 percent       (1000.00$ to 3808.82$)\n",
      "The return rate from 1986 to 2006 was   6.30 percent       (1000.00$ to 3394.57$)\n",
      "The return rate from 1987 to 2007 was   5.57 percent       (1000.00$ to 2957.95$)\n",
      "The return rate from 1988 to 2008 was   5.68 percent       (1000.00$ to 3016.92$)\n",
      "The return rate from 1989 to 2009 was   2.81 percent       (1000.00$ to 1739.48$)\n",
      "The return rate from 1990 to 2010 was   3.38 percent       (1000.00$ to 1943.13$)\n",
      "The return rate from 1991 to 2011 was   4.49 percent       (1000.00$ to 2408.47$)\n",
      "The return rate from 1992 to 2012 was   3.27 percent       (1000.00$ to 1904.47$)\n",
      "The return rate from 1993 to 2013 was   3.79 percent       (1000.00$ to 2106.33$)\n",
      "The return rate from 1994 to 2014 was   4.49 percent       (1000.00$ to 2408.09$)\n",
      "The return rate from 1995 to 2015 was   5.29 percent       (1000.00$ to 2803.55$)\n",
      "The return rate from 1996 to 2016 was   3.62 percent       (1000.00$ to 2035.04$)\n",
      "\n",
      "The average return rate over 20 years was 4.76 percent\n",
      "The standard deviation is 2.59 percent\n",
      "It varied between 0.15 percent and 9.30 percent\n"
     ]
    },
    {
     "data": {
      "image/png": "[encoded data removed]",
      "text/plain": [
       "<matplotlib.figure.Figure at 0x7f866fa4a470>"
      ]
     },
     "metadata": {},
     "output_type": "display_data"
    }
   ],
   "source": [
    "computeAndShowReturnRateInfo(1970, 20)"
   ]
  },
  {
   "cell_type": "markdown",
   "metadata": {},
   "source": [
    "### 30 year evolution"
   ]
  },
  {
   "cell_type": "code",
   "execution_count": 9,
   "metadata": {},
   "outputs": [
    {
     "name": "stdout",
     "output_type": "stream",
     "text": [
      "The return rate from 1970 to 2000 was   4.30 percent       (1000.00$ to 3534.88$)\n",
      "The return rate from 1971 to 2001 was   4.00 percent       (1000.00$ to 3247.26$)\n",
      "The return rate from 1972 to 2002 was   3.19 percent       (1000.00$ to 2561.56$)\n",
      "The return rate from 1973 to 2003 was   1.93 percent       (1000.00$ to 1773.90$)\n",
      "The return rate from 1974 to 2004 was   3.69 percent       (1000.00$ to 2964.97$)\n",
      "The return rate from 1975 to 2005 was   5.10 percent       (1000.00$ to 4448.25$)\n",
      "The return rate from 1976 to 2006 was   4.46 percent       (1000.00$ to 3701.54$)\n",
      "The return rate from 1977 to 2007 was   4.70 percent       (1000.00$ to 3965.24$)\n",
      "The return rate from 1978 to 2008 was   5.16 percent       (1000.00$ to 4523.52$)\n",
      "The return rate from 1979 to 2009 was   3.50 percent       (1000.00$ to 2808.11$)\n",
      "The return rate from 1980 to 2010 was   4.40 percent       (1000.00$ to 3637.67$)\n",
      "The return rate from 1981 to 2011 was   4.56 percent       (1000.00$ to 3809.76$)\n",
      "The return rate from 1982 to 2012 was   5.23 percent       (1000.00$ to 4612.81$)\n",
      "The return rate from 1983 to 2013 was   5.03 percent       (1000.00$ to 4357.04$)\n",
      "The return rate from 1984 to 2014 was   5.35 percent       (1000.00$ to 4770.86$)\n",
      "The return rate from 1985 to 2015 was   5.74 percent       (1000.00$ to 5335.49$)\n",
      "The return rate from 1986 to 2016 was   4.95 percent       (1000.00$ to 4263.04$)\n",
      "\n",
      "The average return rate over 30 years was 4.43 percent\n",
      "The standard deviation is 0.95 percent\n",
      "It varied between 1.93 percent and 5.74 percent\n"
     ]
    },
    {
     "data": {
      "image/png": "[encoded data removed]",
      "text/plain": [
       "<matplotlib.figure.Figure at 0x7f866fa69908>"
      ]
     },
     "metadata": {},
     "output_type": "display_data"
    }
   ],
   "source": [
    "computeAndShowReturnRateInfo(1970, 30)"
   ]
  },
  {
   "cell_type": "code",
   "execution_count": 10,
   "metadata": {},
   "outputs": [
    {
     "name": "stdout",
     "output_type": "stream",
     "text": [
      "2462.9979020499113\n",
      "1061.741176240896\n",
      "5625.013302411652\n"
     ]
    }
   ],
   "source": [
    "print(1000 * 1.0461**20)\n",
    "print(1000 * 1.003**20)\n",
    "print(1000 * 1.0902**20)"
   ]
  },
  {
   "cell_type": "markdown",
   "metadata": {},
   "source": [
    "## Results\n",
    "\n",
    "We can see that over a long enough time period, we get a positive return rate, independently of the year we bought in. If we buy 1000\\$ worth of stocks, on average we'd get 2463\\$ at the end of 20 years.\n",
    "\n",
    "If we bought during the worst year, we'd have 1062\\$ after 20 years, and if we bought at the best possible time, we'd have 5625\\$ after 20 years."
   ]
  },
  {
   "cell_type": "markdown",
   "metadata": {},
   "source": [
    "# We can do a lot better!\n",
    "\n",
    "The previous analysis has 2 main flaws:\n",
    "\n",
    "(1) **It assumes people invest their money at the same time, instead of gradually as they earn some through their salary**\n",
    "\n",
    "Since nobody makes all their money at once, we need to take this into account. There are countless possibilites, as salaries and raises will be different for everyone. For now, I'll forget about this aspect.\n",
    "\n",
    "(2) **It assumes that dividends (as a shareholder, you have right to some of the companies' earnings: the dividends) are not re-invested**\n",
    "\n",
    "If you buy 1000\\$ of stocks in 1990 and receive 25\\$ as dividends, you can re-invest these dividends to buy more stocks. Although it seems small, by re-investing each year the dividends, the return rate increases a lot!"
   ]
  },
  {
   "cell_type": "code",
   "execution_count": 11,
   "metadata": {},
   "outputs": [
    {
     "name": "stdout",
     "output_type": "stream",
     "text": [
      "If we had invested 1000$ in 1970, we'd have 2333.58$ in 1990.\n"
     ]
    }
   ],
   "source": [
    "def getDividends(stockData, currentDate, money):\n",
    "    stockYield = stockData[currentDate][\"Real Dividend\"] / stockData[currentDate][\"Real Price\"]\n",
    "    return stockYield * money\n",
    "\n",
    "def investWithDividends(stockData, beginningYear, money, numYears):\n",
    "    for nextYear in allYearsSince(beginningYear + 1, beginningYear + numYears + 1):\n",
    "        currentDate = (nextYear - 1, 1)\n",
    "        nextDate = (nextYear, 1)\n",
    "        dividends = getDividends(stockData, currentDate, money)\n",
    "        \n",
    "        currentValue, futureValue = getPrice(stockData, currentDate), getPrice(stockData, nextDate)\n",
    "        evolution = futureValue / currentValue\n",
    "    \n",
    "        money = evolution * money + dividends\n",
    "       \n",
    "    return money\n",
    "\n",
    "print(\"If we had invested 1000$ in 1970, we'd have %.2f$ in 1990.\" % investWithDividends(stocksData, 1970, 1000, 20))"
   ]
  },
  {
   "cell_type": "code",
   "execution_count": 12,
   "metadata": {},
   "outputs": [],
   "source": [
    "def getPriceEvolutionWithDividends(beginningYear, timeLapse):\n",
    "    prices = []\n",
    "    for year in allYearsSince(beginningYear, maxYear=LAST_YEAR - timeLapse):\n",
    "        startPrice, endPrice = 1000, investWithDividends(stocksData, year, 1000, timeLapse)\n",
    "        prices.append((startPrice, endPrice))\n",
    "    return prices\n",
    "\n",
    "def computeAndShowReturnRateInfoWithDividends(beginningYear, timeLapse):\n",
    "    prices = getPriceEvolutionWithDividends(beginningYear, timeLapse)\n",
    "    returnRates = getReturnRates(prices, timeLapse)\n",
    "    showPriceEvolutionStats(prices, returnRates, beginningYear, timeLapse)"
   ]
  },
  {
   "cell_type": "markdown",
   "metadata": {},
   "source": [
    "### 5 year evolution"
   ]
  },
  {
   "cell_type": "code",
   "execution_count": 13,
   "metadata": {
    "scrolled": true
   },
   "outputs": [
    {
     "name": "stdout",
     "output_type": "stream",
     "text": [
      "The return rate from 1970 to 1975 was  -1.94 percent       (1000.00$ to 906.62$)\n",
      "The return rate from 1971 to 1976 was  -1.21 percent       (1000.00$ to 940.76$)\n",
      "The return rate from 1972 to 1977 was  -6.17 percent       (1000.00$ to 727.46$)\n",
      "The return rate from 1973 to 1978 was  -7.39 percent       (1000.00$ to 681.13$)\n",
      "The return rate from 1974 to 1979 was  -1.86 percent       (1000.00$ to 910.59$)\n",
      "The return rate from 1975 to 1980 was   7.57 percent       (1000.00$ to 1440.11$)\n",
      "The return rate from 1976 to 1981 was  -0.97 percent       (1000.00$ to 952.44$)\n",
      "The return rate from 1977 to 1982 was   2.30 percent       (1000.00$ to 1120.45$)\n",
      "The return rate from 1978 to 1983 was   8.68 percent       (1000.00$ to 1515.91$)\n",
      "The return rate from 1979 to 1984 was   8.17 percent       (1000.00$ to 1481.15$)\n",
      "The return rate from 1980 to 1985 was  11.80 percent       (1000.00$ to 1746.85$)\n",
      "The return rate from 1981 to 1986 was  14.93 percent       (1000.00$ to 2005.48$)\n",
      "The return rate from 1982 to 1987 was  17.03 percent       (1000.00$ to 2195.03$)\n",
      "The return rate from 1983 to 1988 was  14.69 percent       (1000.00$ to 1984.78$)\n",
      "The return rate from 1984 to 1989 was  14.94 percent       (1000.00$ to 2005.82$)\n",
      "The return rate from 1985 to 1990 was  12.64 percent       (1000.00$ to 1812.99$)\n",
      "The return rate from 1986 to 1991 was  13.93 percent       (1000.00$ to 1919.30$)\n",
      "The return rate from 1987 to 1992 was   9.17 percent       (1000.00$ to 1550.63$)\n",
      "The return rate from 1988 to 1993 was  12.38 percent       (1000.00$ to 1792.53$)\n",
      "The return rate from 1989 to 1994 was   9.42 percent       (1000.00$ to 1568.63$)\n",
      "The return rate from 1990 to 1995 was  12.05 percent       (1000.00$ to 1766.57$)\n",
      "The return rate from 1991 to 1996 was  18.33 percent       (1000.00$ to 2319.46$)\n",
      "The return rate from 1992 to 1997 was  17.85 percent       (1000.00$ to 2272.88$)\n",
      "The return rate from 1993 to 1998 was  23.00 percent       (1000.00$ to 2815.09$)\n",
      "The return rate from 1994 to 1999 was  23.79 percent       (1000.00$ to 2907.38$)\n",
      "The return rate from 1995 to 2000 was  22.02 percent       (1000.00$ to 2704.64$)\n",
      "The return rate from 1996 to 2001 was  12.00 percent       (1000.00$ to 1762.40$)\n",
      "The return rate from 1997 to 2002 was   2.19 percent       (1000.00$ to 1114.45$)\n",
      "The return rate from 1998 to 2003 was   2.21 percent       (1000.00$ to 1115.30$)\n",
      "The return rate from 1999 to 2004 was  -2.34 percent       (1000.00$ to 888.56$)\n",
      "The return rate from 2000 to 2005 was  -3.52 percent       (1000.00$ to 835.89$)\n",
      "The return rate from 2001 to 2006 was   0.26 percent       (1000.00$ to 1012.85$)\n",
      "The return rate from 2002 to 2007 was   2.28 percent       (1000.00$ to 1119.14$)\n",
      "The return rate from 2003 to 2008 was  -1.44 percent       (1000.00$ to 930.04$)\n",
      "The return rate from 2004 to 2009 was  -0.84 percent       (1000.00$ to 958.80$)\n",
      "The return rate from 2005 to 2010 was   1.28 percent       (1000.00$ to 1065.42$)\n",
      "The return rate from 2006 to 2011 was   0.21 percent       (1000.00$ to 1010.54$)\n",
      "The return rate from 2007 to 2012 was   0.79 percent       (1000.00$ to 1040.02$)\n",
      "The return rate from 2008 to 2013 was   6.28 percent       (1000.00$ to 1355.72$)\n",
      "The return rate from 2009 to 2014 was  18.85 percent       (1000.00$ to 2371.68$)\n",
      "The return rate from 2010 to 2015 was  11.74 percent       (1000.00$ to 1742.04$)\n",
      "The return rate from 2011 to 2016 was   8.79 percent       (1000.00$ to 1524.08$)\n",
      "\n",
      "The average return rate over 5 years was 7.47 percent\n",
      "The standard deviation is 8.42 percent\n",
      "It varied between -7.39 percent and 23.79 percent\n"
     ]
    },
    {
     "data": {
      "image/png": "[encoded data removed]",
      "text/plain": [
       "<matplotlib.figure.Figure at 0x7f866f9f36d8>"
      ]
     },
     "metadata": {},
     "output_type": "display_data"
    }
   ],
   "source": [
    "computeAndShowReturnRateInfoWithDividends(1970, 5)"
   ]
  },
  {
   "cell_type": "markdown",
   "metadata": {},
   "source": [
    "### 10 year evolution"
   ]
  },
  {
   "cell_type": "code",
   "execution_count": 14,
   "metadata": {},
   "outputs": [
    {
     "name": "stdout",
     "output_type": "stream",
     "text": [
      "The return rate from 1970 to 1980 was   0.04 percent       (1000.00$ to 1003.72$)\n",
      "The return rate from 1971 to 1981 was  -1.63 percent       (1000.00$ to 848.06$)\n",
      "The return rate from 1972 to 1982 was  -0.46 percent       (1000.00$ to 955.24$)\n",
      "The return rate from 1973 to 1983 was  -0.29 percent       (1000.00$ to 971.14$)\n",
      "The return rate from 1974 to 1984 was   2.76 percent       (1000.00$ to 1312.38$)\n",
      "The return rate from 1975 to 1985 was   8.39 percent       (1000.00$ to 2238.35$)\n",
      "The return rate from 1976 to 1986 was   8.30 percent       (1000.00$ to 2220.26$)\n",
      "The return rate from 1977 to 1987 was   7.06 percent       (1000.00$ to 1978.73$)\n",
      "The return rate from 1978 to 1988 was  10.05 percent       (1000.00$ to 2606.25$)\n",
      "The return rate from 1979 to 1989 was  11.08 percent       (1000.00$ to 2859.85$)\n",
      "The return rate from 1980 to 1990 was  10.08 percent       (1000.00$ to 2612.96$)\n",
      "The return rate from 1981 to 1991 was  11.55 percent       (1000.00$ to 2983.17$)\n",
      "The return rate from 1982 to 1992 was  13.71 percent       (1000.00$ to 3614.70$)\n",
      "The return rate from 1983 to 1993 was  12.21 percent       (1000.00$ to 3165.64$)\n",
      "The return rate from 1984 to 1994 was  10.43 percent       (1000.00$ to 2696.89$)\n",
      "The return rate from 1985 to 1995 was  13.05 percent       (1000.00$ to 3410.94$)\n",
      "The return rate from 1986 to 1996 was  13.25 percent       (1000.00$ to 3469.49$)\n",
      "The return rate from 1987 to 1997 was  12.95 percent       (1000.00$ to 3380.94$)\n",
      "The return rate from 1988 to 1998 was  16.58 percent       (1000.00$ to 4635.80$)\n",
      "The return rate from 1989 to 1999 was  16.58 percent       (1000.00$ to 4637.15$)\n",
      "The return rate from 1990 to 2000 was  13.78 percent       (1000.00$ to 3636.48$)\n",
      "The return rate from 1991 to 2001 was  12.73 percent       (1000.00$ to 3315.75$)\n",
      "The return rate from 1992 to 2002 was   7.26 percent       (1000.00$ to 2014.57$)\n",
      "The return rate from 1993 to 2003 was   9.29 percent       (1000.00$ to 2431.76$)\n",
      "The return rate from 1994 to 2004 was   8.68 percent       (1000.00$ to 2297.97$)\n",
      "The return rate from 1995 to 2005 was   9.47 percent       (1000.00$ to 2471.03$)\n",
      "The return rate from 1996 to 2006 was   7.62 percent       (1000.00$ to 2084.96$)\n",
      "The return rate from 1997 to 2007 was   4.81 percent       (1000.00$ to 1599.85$)\n",
      "The return rate from 1998 to 2008 was  -1.91 percent       (1000.00$ to 824.34$)\n",
      "The return rate from 1999 to 2009 was  -1.87 percent       (1000.00$ to 828.24$)\n",
      "The return rate from 2000 to 2010 was  -1.70 percent       (1000.00$ to 842.10$)\n",
      "The return rate from 2001 to 2011 was  -0.80 percent       (1000.00$ to 923.26$)\n",
      "The return rate from 2002 to 2012 was   2.09 percent       (1000.00$ to 1230.37$)\n",
      "The return rate from 2003 to 2013 was   6.89 percent       (1000.00$ to 1946.20$)\n",
      "The return rate from 2004 to 2014 was   5.77 percent       (1000.00$ to 1752.95$)\n",
      "The return rate from 2005 to 2015 was   4.97 percent       (1000.00$ to 1623.79$)\n",
      "The return rate from 2006 to 2016 was   4.38 percent       (1000.00$ to 1535.40$)\n",
      "\n",
      "The average return rate over 10 years was 7.22 percent\n",
      "The standard deviation is 5.57 percent\n",
      "It varied between -1.91 percent and 16.58 percent\n"
     ]
    },
    {
     "data": {
      "image/png": "[encoded data removed]",
      "text/plain": [
       "<matplotlib.figure.Figure at 0x7f866fb54a58>"
      ]
     },
     "metadata": {},
     "output_type": "display_data"
    }
   ],
   "source": [
    "computeAndShowReturnRateInfoWithDividends(1970, 10)"
   ]
  },
  {
   "cell_type": "markdown",
   "metadata": {},
   "source": [
    "### 20 year evolution"
   ]
  },
  {
   "cell_type": "code",
   "execution_count": 15,
   "metadata": {},
   "outputs": [
    {
     "name": "stdout",
     "output_type": "stream",
     "text": [
      "The return rate from 1970 to 1990 was   4.33 percent       (1000.00$ to 2333.58$)\n",
      "The return rate from 1971 to 1991 was   5.54 percent       (1000.00$ to 2940.71$)\n",
      "The return rate from 1972 to 1992 was   5.24 percent       (1000.00$ to 2778.06$)\n",
      "The return rate from 1973 to 1993 was   5.02 percent       (1000.00$ to 2663.03$)\n",
      "The return rate from 1974 to 1994 was   6.32 percent       (1000.00$ to 3407.03$)\n",
      "The return rate from 1975 to 1995 was   9.64 percent       (1000.00$ to 6299.19$)\n",
      "The return rate from 1976 to 1996 was   9.35 percent       (1000.00$ to 5970.15$)\n",
      "The return rate from 1977 to 1997 was  10.30 percent       (1000.00$ to 7104.75$)\n",
      "The return rate from 1978 to 1998 was  12.61 percent       (1000.00$ to 10750.34$)\n",
      "The return rate from 1979 to 1999 was  12.92 percent       (1000.00$ to 11366.97$)\n",
      "The return rate from 1980 to 2000 was  12.27 percent       (1000.00$ to 10119.57$)\n",
      "The return rate from 1981 to 2001 was  10.75 percent       (1000.00$ to 7708.93$)\n",
      "The return rate from 1982 to 2002 was  10.21 percent       (1000.00$ to 6985.67$)\n",
      "The return rate from 1983 to 2003 was  10.28 percent       (1000.00$ to 7072.08$)\n",
      "The return rate from 1984 to 2004 was   9.64 percent       (1000.00$ to 6301.38$)\n",
      "The return rate from 1985 to 2005 was   9.74 percent       (1000.00$ to 6414.97$)\n",
      "The return rate from 1986 to 2006 was   9.25 percent       (1000.00$ to 5867.51$)\n",
      "The return rate from 1987 to 2007 was   7.57 percent       (1000.00$ to 4301.91$)\n",
      "The return rate from 1988 to 2008 was   5.58 percent       (1000.00$ to 2959.84$)\n",
      "The return rate from 1989 to 2009 was   6.34 percent       (1000.00$ to 3416.36$)\n",
      "The return rate from 1990 to 2010 was   6.23 percent       (1000.00$ to 3347.06$)\n",
      "The return rate from 1991 to 2011 was   6.58 percent       (1000.00$ to 3575.63$)\n",
      "The return rate from 1992 to 2012 was   5.95 percent       (1000.00$ to 3179.45$)\n",
      "The return rate from 1993 to 2013 was   6.85 percent       (1000.00$ to 3761.18$)\n",
      "The return rate from 1994 to 2014 was   7.06 percent       (1000.00$ to 3916.13$)\n",
      "The return rate from 1995 to 2015 was   6.89 percent       (1000.00$ to 3794.03$)\n",
      "The return rate from 1996 to 2016 was   5.45 percent       (1000.00$ to 2887.63$)\n",
      "\n",
      "The average return rate over 20 years was 8.07 percent\n",
      "The standard deviation is 2.52 percent\n",
      "It varied between 4.33 percent and 12.92 percent\n"
     ]
    },
    {
     "data": {
      "image/png": "[encoded data removed]",
      "text/plain": [
       "<matplotlib.figure.Figure at 0x7f866f93f2b0>"
      ]
     },
     "metadata": {},
     "output_type": "display_data"
    }
   ],
   "source": [
    "computeAndShowReturnRateInfoWithDividends(1970, 20)"
   ]
  },
  {
   "cell_type": "markdown",
   "metadata": {},
   "source": [
    "### 30 year evolution"
   ]
  },
  {
   "cell_type": "code",
   "execution_count": 16,
   "metadata": {},
   "outputs": [
    {
     "name": "stdout",
     "output_type": "stream",
     "text": [
      "The return rate from 1970 to 2000 was   7.61 percent       (1000.00$ to 9037.59$)\n",
      "The return rate from 1971 to 2001 was   6.99 percent       (1000.00$ to 7599.21$)\n",
      "The return rate from 1972 to 2002 was   5.76 percent       (1000.00$ to 5368.79$)\n",
      "The return rate from 1973 to 2003 was   6.12 percent       (1000.00$ to 5949.25$)\n",
      "The return rate from 1974 to 2004 was   7.16 percent       (1000.00$ to 7960.62$)\n",
      "The return rate from 1975 to 2005 was   8.59 percent       (1000.00$ to 11846.91$)\n",
      "The return rate from 1976 to 2006 was   8.01 percent       (1000.00$ to 10096.58$)\n",
      "The return rate from 1977 to 2007 was   7.61 percent       (1000.00$ to 9040.08$)\n",
      "The return rate from 1978 to 2008 was   6.63 percent       (1000.00$ to 6863.83$)\n",
      "The return rate from 1979 to 2009 was   7.34 percent       (1000.00$ to 8374.48$)\n",
      "The return rate from 1980 to 2010 was   7.72 percent       (1000.00$ to 9314.16$)\n",
      "The return rate from 1981 to 2011 was   7.31 percent       (1000.00$ to 8313.13$)\n",
      "The return rate from 1982 to 2012 was   8.33 percent       (1000.00$ to 11024.94$)\n",
      "The return rate from 1983 to 2013 was   8.30 percent       (1000.00$ to 10938.31$)\n",
      "The return rate from 1984 to 2014 was   8.23 percent       (1000.00$ to 10738.63$)\n",
      "The return rate from 1985 to 2015 was   7.92 percent       (1000.00$ to 9849.54$)\n",
      "The return rate from 1986 to 2016 was   7.23 percent       (1000.00$ to 8126.40$)\n",
      "\n",
      "The average return rate over 30 years was 7.46 percent\n",
      "The standard deviation is 0.78 percent\n",
      "It varied between 5.76 percent and 8.59 percent\n"
     ]
    },
    {
     "data": {
      "image/png": "[encoded data removed]",
      "text/plain": [
       "<matplotlib.figure.Figure at 0x7f866f81cbe0>"
      ]
     },
     "metadata": {},
     "output_type": "display_data"
    }
   ],
   "source": [
    "computeAndShowReturnRateInfoWithDividends(1970, 30)"
   ]
  },
  {
   "cell_type": "markdown",
   "metadata": {},
   "source": [
    "## Analysis\n",
    "\n",
    "We can see that over a long enough time period, we never lose money. If we invest during 20 years, the minimum we could make was a 4.3% return rate, which is really good. \n",
    "\n",
    "If we invest even longer (30 years), the return rate stabilises at about 7.5% and can vary between 5.75% and 8.6%. On average, our 1000\\$ would transform into 8755\\$, inflation-adjusted! That's an amazing return rate. You could increase your money eight-fold over 30 years by simply re-investing it.\n",
    "\n",
    "Let's look at the extreme situations:\n",
    "\n",
    "- If you invested at the worst possible time (1972) and had to sell everything in 2002 (just after the DotCom bubble crashed), your return rate would have been 5.75%. Thus, your 1000\\$ would have transformed into 5351\\$. Of course, in reality, you would have simply waited a couple of year for the stock market to improve again, so this situation is a absolute worst-case scenario.\n",
    "\n",
    "- If you invested at the best possible time (1975) and had to sell everything in 2005 (the stock market had partially recovered from the DotCom bubble crash), your return rate would be 8.6%. Thus, your your 1000\\$ would have transformed into 11882\\$. \n",
    "\n",
    "As we can see, over a long enough time period, the power of compounding is enormous. A 5.75% return rate, over 0 yeas, would more than improve 5-fold your money. A 3% difference, from 5.75% to 8.6% return rate, would more than double the result: you'd more than 11-fold improve your money."
   ]
  },
  {
   "cell_type": "code",
   "execution_count": 17,
   "metadata": {},
   "outputs": [
    {
     "name": "stdout",
     "output_type": "stream",
     "text": [
      "8754.955188968896\n",
      "5350.708372131398\n",
      "11882.1425304206\n"
     ]
    }
   ],
   "source": [
    "print(1000 * 1.075 ** 30)\n",
    "print(1000 * 1.0575 ** 30)\n",
    "print(1000 * 1.086 ** 30)"
   ]
  },
  {
   "cell_type": "markdown",
   "metadata": {},
   "source": [
    "## Constant investing over time\n",
    "\n",
    "Most people don't invest all their money at once. Instead, they put part of their salary in an investment account each month. \n",
    "\n",
    "\n",
    "In this simulation, we're considering that we're always putting the same amount every year (in inflation-adjusted dollars) and putting it once a year. The practice of always placing the same amount of money is called **dollar-cost averaging**. The advantage is that you'll buy many shares when the prices are low, and less when prices are high.\n",
    "\n",
    "We also introduce the fees for the index fund."
   ]
  },
  {
   "cell_type": "code",
   "execution_count": 24,
   "metadata": {},
   "outputs": [
    {
     "name": "stdout",
     "output_type": "stream",
     "text": [
      "If we had invested 1000$ in 1970 and investing an extra 1000$ yearly (total: 21000$), we'd have 44368.54$ in 1990.\n"
     ]
    }
   ],
   "source": [
    "FEES = 0.0017\n",
    "\n",
    "def investYearlyWithDividends(stockData, beginningYear, money, addedMoneyPerYear, numYears):\n",
    "    for nextYear in allYearsSince(beginningYear + 1, beginningYear + numYears + 1):\n",
    "        currentDate = (nextYear - 1, 1)\n",
    "        nextDate = (nextYear, 1)\n",
    "        dividends = getDividends(stockData, currentDate, money)\n",
    "        \n",
    "        currentValue, futureValue = getPrice(stockData, currentDate), getPrice(stockData, nextDate)\n",
    "        evolution = futureValue / currentValue\n",
    "    \n",
    "        money = money * evolution * (1 - FEES) + dividends + addedMoneyPerYear\n",
    "       \n",
    "    return money\n",
    "\n",
    "print(\"If we had invested 1000$ in 1970 and investing an extra 1000$ yearly (total: 21000$), we'd have %.2f$ in 1990.\" % investYearlyWithDividends(stocksData, 1970, 1000, 1000, 20))"
   ]
  },
  {
   "cell_type": "code",
   "execution_count": 25,
   "metadata": {},
   "outputs": [],
   "source": [
    "def getPriceEvolutionWithDividendsYearly(beginningYear, addedMoneyPerYear, timeLapse):\n",
    "    prices = []\n",
    "    for year in allYearsSince(beginningYear, maxYear=LAST_YEAR - timeLapse):\n",
    "        beginningMoney = addedMoneyPerYear\n",
    "        startPrice = beginningMoney + addedMoneyPerYear * timeLapse\n",
    "        endPrice = investYearlyWithDividends(stocksData, year, beginningMoney, addedMoneyPerYear, timeLapse)\n",
    "        prices.append((startPrice, endPrice))\n",
    "    return prices\n",
    "\n",
    "def bisection(f, minVal, maxVal, goal):\n",
    "    EPSILON = 10 ** -8\n",
    "    while abs(maxVal - minVal) > EPSILON:\n",
    "        mid = (maxVal + minVal) / 2\n",
    "        val = f(mid)\n",
    "        if val > goal:\n",
    "            maxVal = mid\n",
    "        elif val < goal:\n",
    "            minVal = mid\n",
    "        else:\n",
    "            return mid\n",
    "    return (maxVal + minVal) / 2\n",
    "            \n",
    "\n",
    "def computeReturnRate(timeLapse, addedMoneyPerYear, endPrice):\n",
    "    totalMoney = addedMoneyPerYear * (timeLapse + 1)\n",
    "    # addedMoneyPerYear * (1 + S + S² + ... + S^timelapse) = endPrice\n",
    "    # reduces to\n",
    "    # (S^(timeLapse + 1) - 1)/(S - 1) = endPrice / addedMoneyPerYear\n",
    "    # which can be solve through bisection\n",
    "    if totalMoney < endPrice:\n",
    "        totalReturnRate = bisection(lambda x: (x ** (timeLapse + 1.0) - 1.0) / (x - 1.0), 1.0, 2.0, endPrice / addedMoneyPerYear)\n",
    "    else:\n",
    "        totalReturnRate = bisection(lambda x: (x ** (timeLapse + 1.0) - 1.0) / (x - 1.0), 0.0, 1.0, endPrice / addedMoneyPerYear)\n",
    "    return (totalReturnRate - 1) * 100\n",
    "\n",
    "def getReturnRatesWithYearlyInvestments(prices, timeLapse, addedMoneyPerYear):\n",
    "    return [computeReturnRate(timeLapse, addedMoneyPerYear, endPrice) for (startPrice, endPrice) in prices]\n",
    "\n",
    "def computeAndShowReturnRateInfoWithDividendsYearly(beginningYear, timeLapse):\n",
    "    beginningMoney = 1000 / (timeLapse + 1)\n",
    "    addedMoneyPerYear = (1000 - beginningMoney) / timeLapse\n",
    "    \n",
    "    prices = getPriceEvolutionWithDividendsYearly(beginningYear, addedMoneyPerYear, timeLapse)\n",
    "    returnRates = getReturnRatesWithYearlyInvestments(prices, timeLapse, addedMoneyPerYear)\n",
    "    showPriceEvolutionStats(prices, returnRates, beginningYear, timeLapse)"
   ]
  },
  {
   "cell_type": "markdown",
   "metadata": {},
   "source": [
    "### 5 year evolution"
   ]
  },
  {
   "cell_type": "code",
   "execution_count": 26,
   "metadata": {},
   "outputs": [
    {
     "name": "stdout",
     "output_type": "stream",
     "text": [
      "The return rate from 1970 to 1975 was   3.25 percent       (1000.00$ to 1084.95$)\n",
      "The return rate from 1971 to 1976 was   5.68 percent       (1000.00$ to 1153.27$)\n",
      "The return rate from 1972 to 1977 was   0.67 percent       (1000.00$ to 1016.87$)\n",
      "The return rate from 1973 to 1978 was   4.47 percent       (1000.00$ to 1118.63$)\n",
      "The return rate from 1974 to 1979 was   7.23 percent       (1000.00$ to 1199.07$)\n",
      "The return rate from 1975 to 1980 was  11.73 percent       (1000.00$ to 1343.45$)\n",
      "The return rate from 1976 to 1981 was   4.39 percent       (1000.00$ to 1116.44$)\n",
      "The return rate from 1977 to 1982 was  12.13 percent       (1000.00$ to 1356.99$)\n",
      "The return rate from 1978 to 1983 was  16.56 percent       (1000.00$ to 1517.52$)\n",
      "The return rate from 1979 to 1984 was  15.60 percent       (1000.00$ to 1481.05$)\n",
      "The return rate from 1980 to 1985 was  20.19 percent       (1000.00$ to 1663.01$)\n",
      "The return rate from 1981 to 1986 was  26.28 percent       (1000.00$ to 1937.48$)\n",
      "The return rate from 1982 to 1987 was  20.52 percent       (1000.00$ to 1676.88$)\n",
      "The return rate from 1983 to 1988 was  19.68 percent       (1000.00$ to 1641.70$)\n",
      "The return rate from 1984 to 1989 was  21.00 percent       (1000.00$ to 1697.31$)\n",
      "The return rate from 1985 to 1990 was  14.69 percent       (1000.00$ to 1447.47$)\n",
      "The return rate from 1986 to 1991 was  19.58 percent       (1000.00$ to 1637.60$)\n",
      "The return rate from 1987 to 1992 was  17.18 percent       (1000.00$ to 1541.30$)\n",
      "The return rate from 1988 to 1993 was  17.74 percent       (1000.00$ to 1563.54$)\n",
      "The return rate from 1989 to 1994 was  13.69 percent       (1000.00$ to 1411.41$)\n",
      "The return rate from 1990 to 1995 was  20.56 percent       (1000.00$ to 1678.46$)\n",
      "The return rate from 1991 to 1996 was  24.94 percent       (1000.00$ to 1873.70$)\n",
      "The return rate from 1992 to 1997 was  28.31 percent       (1000.00$ to 2038.18$)\n",
      "The return rate from 1993 to 1998 was  33.35 percent       (1000.00$ to 2310.33$)\n",
      "The return rate from 1994 to 1999 was  32.07 percent       (1000.00$ to 2238.26$)\n",
      "The return rate from 1995 to 2000 was  22.74 percent       (1000.00$ to 1772.87$)\n",
      "The return rate from 1996 to 2001 was  10.45 percent       (1000.00$ to 1300.54$)\n",
      "The return rate from 1997 to 2002 was  -1.95 percent       (1000.00$ to 952.54$)\n",
      "The return rate from 1998 to 2003 was   4.95 percent       (1000.00$ to 1132.26$)\n",
      "The return rate from 1999 to 2004 was   5.24 percent       (1000.00$ to 1140.41$)\n",
      "The return rate from 2000 to 2005 was   7.78 percent       (1000.00$ to 1215.92$)\n",
      "The return rate from 2001 to 2006 was  12.21 percent       (1000.00$ to 1359.74$)\n",
      "The return rate from 2002 to 2007 was  10.22 percent       (1000.00$ to 1293.00$)\n",
      "The return rate from 2003 to 2008 was  -4.98 percent       (1000.00$ to 883.54$)\n",
      "The return rate from 2004 to 2009 was   4.24 percent       (1000.00$ to 1112.17$)\n",
      "The return rate from 2005 to 2010 was   9.04 percent       (1000.00$ to 1255.22$)\n",
      "The return rate from 2006 to 2011 was   8.80 percent       (1000.00$ to 1247.62$)\n",
      "The return rate from 2007 to 2012 was  13.30 percent       (1000.00$ to 1397.82$)\n",
      "The return rate from 2008 to 2013 was  20.51 percent       (1000.00$ to 1676.25$)\n",
      "The return rate from 2009 to 2014 was  23.57 percent       (1000.00$ to 1810.17$)\n",
      "The return rate from 2010 to 2015 was  16.53 percent       (1000.00$ to 1516.32$)\n",
      "The return rate from 2011 to 2016 was   8.20 percent       (1000.00$ to 1228.88$)\n",
      "\n",
      "The average return rate over 5 years was 13.87 percent\n",
      "The standard deviation is 8.95 percent\n",
      "It varied between -4.98 percent and 33.35 percent\n"
     ]
    },
    {
     "data": {
      "image/png": "[encoded data removed]",
      "text/plain": [
       "<matplotlib.figure.Figure at 0x7f866f9c0978>"
      ]
     },
     "metadata": {},
     "output_type": "display_data"
    }
   ],
   "source": [
    "computeAndShowReturnRateInfoWithDividendsYearly(1970, 5)"
   ]
  },
  {
   "cell_type": "markdown",
   "metadata": {},
   "source": [
    "### 10 year evolution"
   ]
  },
  {
   "cell_type": "code",
   "execution_count": 27,
   "metadata": {},
   "outputs": [
    {
     "name": "stdout",
     "output_type": "stream",
     "text": [
      "The return rate from 1970 to 1980 was   2.81 percent       (1000.00$ to 1153.19$)\n",
      "The return rate from 1971 to 1981 was   0.09 percent       (1000.00$ to 1004.43$)\n",
      "The return rate from 1972 to 1982 was   4.27 percent       (1000.00$ to 1243.35$)\n",
      "The return rate from 1973 to 1983 was   6.88 percent       (1000.00$ to 1425.62$)\n",
      "The return rate from 1974 to 1984 was   7.58 percent       (1000.00$ to 1479.54$)\n",
      "The return rate from 1975 to 1985 was  10.59 percent       (1000.00$ to 1739.43$)\n",
      "The return rate from 1976 to 1986 was  13.82 percent       (1000.00$ to 2074.08$)\n",
      "The return rate from 1977 to 1987 was  11.77 percent       (1000.00$ to 1854.32$)\n",
      "The return rate from 1978 to 1988 was  12.91 percent       (1000.00$ to 1973.25$)\n",
      "The return rate from 1979 to 1989 was  14.20 percent       (1000.00$ to 2118.18$)\n",
      "The return rate from 1980 to 1990 was  11.60 percent       (1000.00$ to 1837.18$)\n",
      "The return rate from 1981 to 1991 was  14.43 percent       (1000.00$ to 2145.46$)\n",
      "The return rate from 1982 to 1992 was  13.57 percent       (1000.00$ to 2046.52$)\n",
      "The return rate from 1983 to 1993 was  12.82 percent       (1000.00$ to 1964.18$)\n",
      "The return rate from 1984 to 1994 was  10.62 percent       (1000.00$ to 1741.98$)\n",
      "The return rate from 1985 to 1995 was  13.69 percent       (1000.00$ to 2060.05$)\n",
      "The return rate from 1986 to 1996 was  15.31 percent       (1000.00$ to 2251.61$)\n",
      "The return rate from 1987 to 1997 was  17.40 percent       (1000.00$ to 2528.45$)\n",
      "The return rate from 1988 to 1998 was  20.23 percent       (1000.00$ to 2960.92$)\n",
      "The return rate from 1989 to 1999 was  20.16 percent       (1000.00$ to 2949.56$)\n",
      "The return rate from 1990 to 2000 was  16.51 percent       (1000.00$ to 2406.90$)\n",
      "The return rate from 1991 to 2001 was  11.93 percent       (1000.00$ to 1870.70$)\n",
      "The return rate from 1992 to 2002 was   5.37 percent       (1000.00$ to 1316.52$)\n",
      "The return rate from 1993 to 2003 was   8.07 percent       (1000.00$ to 1518.84$)\n",
      "The return rate from 1994 to 2004 was   6.91 percent       (1000.00$ to 1427.73$)\n",
      "The return rate from 1995 to 2005 was   6.29 percent       (1000.00$ to 1381.76$)\n",
      "The return rate from 1996 to 2006 was   6.21 percent       (1000.00$ to 1376.09$)\n",
      "The return rate from 1997 to 2007 was   3.82 percent       (1000.00$ to 1214.78$)\n",
      "The return rate from 1998 to 2008 was  -4.99 percent       (1000.00$ to 784.27$)\n",
      "The return rate from 1999 to 2009 was   0.22 percent       (1000.00$ to 1011.31$)\n",
      "The return rate from 2000 to 2010 was   2.94 percent       (1000.00$ to 1160.56$)\n",
      "The return rate from 2001 to 2011 was   3.22 percent       (1000.00$ to 1177.85$)\n",
      "The return rate from 2002 to 2012 was   5.68 percent       (1000.00$ to 1338.67$)\n",
      "The return rate from 2003 to 2013 was   9.09 percent       (1000.00$ to 1603.75$)\n",
      "The return rate from 2004 to 2014 was  10.27 percent       (1000.00$ to 1708.95$)\n",
      "The return rate from 2005 to 2015 was   8.66 percent       (1000.00$ to 1567.70$)\n",
      "The return rate from 2006 to 2016 was   6.84 percent       (1000.00$ to 1422.77$)\n",
      "\n",
      "The average return rate over 10 years was 9.24 percent\n",
      "The standard deviation is 5.69 percent\n",
      "It varied between -4.99 percent and 20.23 percent\n"
     ]
    },
    {
     "data": {
      "image/png": "[encoded data removed]",
      "text/plain": [
       "<matplotlib.figure.Figure at 0x7f866f71c828>"
      ]
     },
     "metadata": {},
     "output_type": "display_data"
    }
   ],
   "source": [
    "computeAndShowReturnRateInfoWithDividendsYearly(1970, 10)"
   ]
  },
  {
   "cell_type": "markdown",
   "metadata": {},
   "source": [
    "### 20 year evolution"
   ]
  },
  {
   "cell_type": "code",
   "execution_count": 28,
   "metadata": {},
   "outputs": [
    {
     "name": "stdout",
     "output_type": "stream",
     "text": [
      "The return rate from 1970 to 1990 was   6.90 percent       (1000.00$ to 2112.79$)\n",
      "The return rate from 1971 to 1991 was   8.73 percent       (1000.00$ to 2616.55$)\n",
      "The return rate from 1972 to 1992 was   8.77 percent       (1000.00$ to 2629.88$)\n",
      "The return rate from 1973 to 1993 was   9.19 percent       (1000.00$ to 2766.64$)\n",
      "The return rate from 1974 to 1994 was   8.81 percent       (1000.00$ to 2643.78$)\n",
      "The return rate from 1975 to 1995 was  10.68 percent       (1000.00$ to 3309.85$)\n",
      "The return rate from 1976 to 1996 was  11.73 percent       (1000.00$ to 3764.65$)\n",
      "The return rate from 1977 to 1997 was  13.05 percent       (1000.00$ to 4428.39$)\n",
      "The return rate from 1978 to 1998 was  14.53 percent       (1000.00$ to 5334.26$)\n",
      "The return rate from 1979 to 1999 was  14.75 percent       (1000.00$ to 5479.31$)\n",
      "The return rate from 1980 to 2000 was  13.31 percent       (1000.00$ to 4574.71$)\n",
      "The return rate from 1981 to 2001 was  11.28 percent       (1000.00$ to 3559.87$)\n",
      "The return rate from 1982 to 2002 was   8.48 percent       (1000.00$ to 2542.27$)\n",
      "The return rate from 1983 to 2003 was   9.41 percent       (1000.00$ to 2837.62$)\n",
      "The return rate from 1984 to 2004 was   8.76 percent       (1000.00$ to 2627.59$)\n",
      "The return rate from 1985 to 2005 was   8.40 percent       (1000.00$ to 2515.87$)\n",
      "The return rate from 1986 to 2006 was   8.36 percent       (1000.00$ to 2505.58$)\n",
      "The return rate from 1987 to 2007 was   7.09 percent       (1000.00$ to 2159.13$)\n",
      "The return rate from 1988 to 2008 was   2.66 percent       (1000.00$ to 1316.19$)\n",
      "The return rate from 1989 to 2009 was   4.31 percent       (1000.00$ to 1575.92$)\n",
      "The return rate from 1990 to 2010 was   4.82 percent       (1000.00$ to 1666.64$)\n",
      "The return rate from 1991 to 2011 was   4.24 percent       (1000.00$ to 1562.50$)\n",
      "The return rate from 1992 to 2012 was   4.67 percent       (1000.00$ to 1640.11$)\n",
      "The return rate from 1993 to 2013 was   5.92 percent       (1000.00$ to 1886.79$)\n",
      "The return rate from 1994 to 2014 was   6.37 percent       (1000.00$ to 1986.79$)\n",
      "The return rate from 1995 to 2015 was   5.34 percent       (1000.00$ to 1766.27$)\n",
      "The return rate from 1996 to 2016 was   4.40 percent       (1000.00$ to 1591.83$)\n",
      "\n",
      "The average return rate over 20 years was 8.33 percent\n",
      "The standard deviation is 3.30 percent\n",
      "It varied between 2.66 percent and 14.75 percent\n"
     ]
    },
    {
     "data": {
      "image/png": "[encoded data removed]",
      "text/plain": [
       "<matplotlib.figure.Figure at 0x7f866fa48dd8>"
      ]
     },
     "metadata": {},
     "output_type": "display_data"
    }
   ],
   "source": [
    "computeAndShowReturnRateInfoWithDividendsYearly(1970, 20)"
   ]
  },
  {
   "cell_type": "markdown",
   "metadata": {},
   "source": [
    "### 30 year evolution"
   ]
  },
  {
   "cell_type": "code",
   "execution_count": 29,
   "metadata": {},
   "outputs": [
    {
     "name": "stdout",
     "output_type": "stream",
     "text": [
      "The return rate from 1970 to 2000 was  10.17 percent       (1000.00$ to 6067.37$)\n",
      "The return rate from 1971 to 2001 was   9.16 percent       (1000.00$ to 4981.36$)\n",
      "The return rate from 1972 to 2002 was   7.66 percent       (1000.00$ to 3727.91$)\n",
      "The return rate from 1973 to 2003 was   8.65 percent       (1000.00$ to 4508.52$)\n",
      "The return rate from 1974 to 2004 was   8.61 percent       (1000.00$ to 4474.81$)\n",
      "The return rate from 1975 to 2005 was   8.64 percent       (1000.00$ to 4499.12$)\n",
      "The return rate from 1976 to 2006 was   8.76 percent       (1000.00$ to 4609.82$)\n",
      "The return rate from 1977 to 2007 was   8.15 percent       (1000.00$ to 4093.62$)\n",
      "The return rate from 1978 to 2008 was   5.51 percent       (1000.00$ to 2500.80$)\n",
      "The return rate from 1979 to 2009 was   6.50 percent       (1000.00$ to 2998.56$)\n",
      "The return rate from 1980 to 2010 was   6.78 percent       (1000.00$ to 3161.06$)\n",
      "The return rate from 1981 to 2011 was   6.34 percent       (1000.00$ to 2911.98$)\n",
      "The return rate from 1982 to 2012 was   6.61 percent       (1000.00$ to 3058.97$)\n",
      "The return rate from 1983 to 2013 was   7.14 percent       (1000.00$ to 3382.30$)\n",
      "The return rate from 1984 to 2014 was   7.29 percent       (1000.00$ to 3480.02$)\n",
      "The return rate from 1985 to 2015 was   6.55 percent       (1000.00$ to 3029.65$)\n",
      "The return rate from 1986 to 2016 was   5.98 percent       (1000.00$ to 2727.90$)\n",
      "\n",
      "The average return rate over 30 years was 7.56 percent\n",
      "The standard deviation is 1.29 percent\n",
      "It varied between 5.51 percent and 10.17 percent\n"
     ]
    },
    {
     "data": {
      "image/png": "[encoded data removed]",
      "text/plain": [
       "<matplotlib.figure.Figure at 0x7f866fc4dbe0>"
      ]
     },
     "metadata": {},
     "output_type": "display_data"
    }
   ],
   "source": [
    "computeAndShowReturnRateInfoWithDividendsYearly(1970, 30)"
   ]
  },
  {
   "cell_type": "markdown",
   "metadata": {},
   "source": [
    "## Analysis\n",
    "\n",
    "We can see that we aren't required to put our money at once. If we put our money year by year, we still get amazing return rates. In fact, over the long run it makes pratically no difference on the average return rate.\n",
    "\n",
    "Given that we introduced the fees in this section, yet we still keep the same average, it means that dollar-cost averaging is a good solution, increasing our real return on our money.\n",
    "\n",
    "On the other hand, it does seem to raise variability, which is a result that surprises me."
   ]
  },
  {
   "cell_type": "code",
   "execution_count": null,
   "metadata": {},
   "outputs": [],
   "source": []
  }
 ],
 "metadata": {
  "kernelspec": {
   "display_name": "Python 3",
   "language": "python",
   "name": "python3"
  },
  "language_info": {
   "codemirror_mode": {
    "name": "ipython",
    "version": 3
   },
   "file_extension": ".py",
   "mimetype": "text/x-python",
   "name": "python",
   "nbconvert_exporter": "python",
   "pygments_lexer": "ipython3",
   "version": "3.5.2"
  }
 },
 "nbformat": 4,
 "nbformat_minor": 1
}
